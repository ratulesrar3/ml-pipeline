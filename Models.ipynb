{
 "cells": [
  {
   "cell_type": "markdown",
   "metadata": {},
   "source": [
    "# Models Notebook\n",
    "\n",
    "This notebook allows a user to download the data from 2010-2015, train a set of models using temporal validation, and obtain the top performing models and accompanying graphs for precision and recall and feature importance. \n",
    "\n",
    "## Installation instructions\n",
    "- All package installation requirements have been saved in requirements.txt\n",
    "- If you are working in a virtual environmnent, activate it and pip install -r requirements.txt\n",
    "- Make sure your jupyter kernel is pointing to your virtual environment"
   ]
  },
  {
   "cell_type": "code",
   "execution_count": null,
   "metadata": {},
   "outputs": [],
   "source": [
    "# import statements\n",
    "import warnings\n",
    "warnings.simplefilter('ignore')\n",
    "warnings.filterwarnings('ignore',category=DeprecationWarning)\n",
    "\n",
    "% run pipeline/explore.py\n",
    "% run pipeline/features.py\n",
    "% run pipeline/preprocess.py\n",
    "% run pipeline/methods_loop.py\n",
    "% run pipeline/evaluation.py"
   ]
  },
  {
   "cell_type": "markdown",
   "metadata": {},
   "source": [
    "### Get Data\n",
    "- Make sure you are SSH'ed into DSSG server\n",
    "- Run go_ft() to get raw pickle files in data/ folder"
   ]
  },
  {
   "cell_type": "code",
   "execution_count": null,
   "metadata": {},
   "outputs": [],
   "source": [
    "go_ft()"
   ]
  },
  {
   "cell_type": "code",
   "execution_count": null,
   "metadata": {},
   "outputs": [],
   "source": [
    "cv = [('2010-12-31', '2011-12-31'), ('2011-12-31', '2012-12-31'),\n",
    "      ('2012-12-31', '2013-12-31'), ('2013-12-31', '2014-12-31'),\n",
    "      ('2014-12-31', '2015-12-31')]\n",
    "\n",
    "c, v = cv[0]\n",
    "for c, v in cv:\n",
    "    train = pd.read_pickle('data/c{}_v{}_train.pkl'.format(c[:4], v[:4]))\n",
    "    test = pd.read_pickle('data/c{}_v{}_test.pkl'.format(c[:4], v[:4]))\n",
    "    print(train.shape, test.shape)"
   ]
  },
  {
   "cell_type": "markdown",
   "metadata": {},
   "source": [
    "### Temporal Validation Loop\n",
    "- `temporal_validation_loop` usage\n",
    "- Inputs: \n",
    "    - `cv_pairs` (list of tuple pairs)\n",
    "    - `grid_size` ('test', 'small', or 'large'\n",
    "    - `to_run` (list of methods to run)\n",
    "    - `basic` (features to  use)\n",
    "    - `filename` (file to store results)"
   ]
  },
  {
   "cell_type": "code",
   "execution_count": null,
   "metadata": {
    "scrolled": true
   },
   "outputs": [],
   "source": [
    "# example usage\n",
    "cv = [('2010-12-31', '2011-12-31'), ('2011-12-31', '2012-12-31'),\n",
    "      ('2012-12-31', '2013-12-31'), ('2013-12-31', '2014-12-31')]\n",
    "to_run = ['KNN', 'LR', 'DT', 'RF', 'AB', 'GB']\n",
    "cv_pairs = cv[:1]\n",
    "res = temporal_validation_loop(cv_pairs, 'large', to_run, None, 'results/results_example.pkl')"
   ]
  },
  {
   "cell_type": "code",
   "execution_count": null,
   "metadata": {},
   "outputs": [],
   "source": [
    "res.precision_at_5.mean()"
   ]
  },
  {
   "cell_type": "code",
   "execution_count": null,
   "metadata": {},
   "outputs": [],
   "source": [
    "# adding another year of data\n",
    "# example usage\n",
    "cv = [('2010-12-31', '2011-12-31'), ('2011-12-31', '2012-12-31'),\n",
    "      ('2012-12-31', '2013-12-31'), ('2013-12-31', '2014-12-31'),\n",
    "      ('2014-12-31', '2015-12-31')]\n",
    "cv_pairs = cv[-1:]\n",
    "res2 = temporal_validation_loop(cv_pairs, 'large', ['KNN', 'DT', 'RF', 'LR', 'AB'], None, 'results/last_split_example.pkl')"
   ]
  },
  {
   "cell_type": "code",
   "execution_count": null,
   "metadata": {},
   "outputs": [],
   "source": [
    "res2.precision_at_5.mean()"
   ]
  },
  {
   "cell_type": "code",
   "execution_count": null,
   "metadata": {
    "scrolled": true
   },
   "outputs": [],
   "source": [
    "get_best_model(res2, 'precision_at_5')"
   ]
  },
  {
   "cell_type": "markdown",
   "metadata": {},
   "source": [
    "### Rank models by precision at 5%"
   ]
  },
  {
   "cell_type": "code",
   "execution_count": null,
   "metadata": {},
   "outputs": [],
   "source": [
    "for k, grp in res2.groupby(['model_type']):\n",
    "    print(k, grp.precision_at_5.mean(), grp.precision_at_5.std())"
   ]
  },
  {
   "cell_type": "code",
   "execution_count": null,
   "metadata": {},
   "outputs": [],
   "source": [
    "for k, grp in res2.groupby(['validation_date']):\n",
    "    print(k, 'MAX:', grp.precision_at_5.max(), 'MEAN:', grp.precision_at_5.mean(), 'STD:', grp.precision_at_5.std())"
   ]
  },
  {
   "cell_type": "markdown",
   "metadata": {},
   "source": [
    "### Print best model plots"
   ]
  },
  {
   "cell_type": "code",
   "execution_count": null,
   "metadata": {},
   "outputs": [],
   "source": [
    "evaluate_best_models(res2.loc[[10, 95]])"
   ]
  },
  {
   "cell_type": "code",
   "execution_count": null,
   "metadata": {
    "collapsed": true
   },
   "outputs": [],
   "source": [
    "from IPython.display import Image\n",
    "Image(\"results/c2014_v2015_tree.png\")"
   ]
  }
 ],
 "metadata": {
  "kernelspec": {
   "display_name": "Python 3",
   "language": "python",
   "name": "python3"
  },
  "language_info": {
   "codemirror_mode": {
    "name": "ipython",
    "version": 3
   },
   "file_extension": ".py",
   "mimetype": "text/x-python",
   "name": "python",
   "nbconvert_exporter": "python",
   "pygments_lexer": "ipython3",
   "version": "3.6.5"
  }
 },
 "nbformat": 4,
 "nbformat_minor": 2
}
